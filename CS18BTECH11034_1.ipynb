{
  "nbformat": 4,
  "nbformat_minor": 0,
  "metadata": {
    "colab": {
      "name": "CS18BTECH11034_1.ipynb",
      "provenance": [],
      "collapsed_sections": [],
      "authorship_tag": "ABX9TyObBrSe0vfaxZbdqfXeFKDD",
      "include_colab_link": true
    },
    "kernelspec": {
      "name": "python3",
      "display_name": "Python 3"
    }
  },
  "cells": [
    {
      "cell_type": "markdown",
      "metadata": {
        "id": "view-in-github",
        "colab_type": "text"
      },
      "source": [
        "<a href=\"https://colab.research.google.com/github/srikar34/no_one/blob/master/CS18BTECH11034_1.ipynb\" target=\"_parent\"><img src=\"https://colab.research.google.com/assets/colab-badge.svg\" alt=\"Open In Colab\"/></a>"
      ]
    },
    {
      "cell_type": "code",
      "metadata": {
        "id": "Tn3VvDLFYf6J"
      },
      "source": [
        "\n",
        "import pandas as pd\n",
        "import numpy as np\n",
        "from sklearn.ensemble import GradientBoostingClassifier\n",
        "\n",
        "df2 = pd.read_csv('iith_foml_2020_train.csv')\n",
        "mean = df2['Feature 15'].mean()\n",
        "df2['Feature 15'].fillna(mean, inplace=True)\n",
        "mean = df2['Feature 16'].mean()\n",
        "df2['Feature 16'].fillna(mean, inplace=True)\n",
        "mean = df2['Feature 17'].mean()\n",
        "df2['Feature 17'].fillna(mean, inplace=True)\n",
        "mean = df2['Feature 18'].mean()\n",
        "df2['Feature 18'].fillna(mean, inplace=True)\n",
        "mean = df2['Feature 9'].mean()\n",
        "df2['Feature 9'].fillna(mean, inplace=True)\n",
        "mean = df2['Feature 10'].mean()\n",
        "df2['Feature 10'].fillna(mean, inplace=True)\n",
        "mean = df2['Feature 11'].mean()\n",
        "df2['Feature 11'].fillna(mean, inplace=True)\n",
        "mean = df2['Feature 12'].mean()\n",
        "df2['Feature 12'].fillna(mean, inplace=True)\n",
        "mean = df2['Feature 13'].mean()\n",
        "df2['Feature 13'].fillna(mean, inplace=True)\n",
        "mean = df2['Feature 14'].mean()\n",
        "df2['Feature 14'].fillna(mean, inplace=True)\n",
        "mean = df2['Feature 24'].mean()\n",
        "df2['Feature 24'].fillna(mean, inplace=True)\n",
        "\n",
        "data = np.asarray(df2)\n",
        "x = data[:,:-1]\n",
        "y = data[:,-1]\n",
        "\n",
        "model = GradientBoostingClassifier(max_depth=5,n_estimators=1000,random_state = 0)\n",
        "model.fit(x,y)\n",
        "predicted  = model.predict(x)\n",
        "\n",
        "df = pd.read_csv('test_input.csv')\n",
        "\n",
        "median = df['Feature 15'].mean()\n",
        "df['Feature 15'].fillna(median, inplace=True)\n",
        "median = df['Feature 16'].mean()\n",
        "df['Feature 16'].fillna(median, inplace=True)\n",
        "median = df['Feature 17'].mean()\n",
        "df['Feature 17'].fillna(median, inplace=True)\n",
        "median = df['Feature 18'].mean()\n",
        "df['Feature 18'].fillna(median, inplace=True)\n",
        "median = df['Feature 9'].mean()\n",
        "df['Feature 9'].fillna(median, inplace=True)\n",
        "median = df['Feature 10'].mean()\n",
        "df['Feature 10'].fillna(median, inplace=True)\n",
        "median = df['Feature 11'].mean()\n",
        "df['Feature 11'].fillna(median, inplace=True)\n",
        "median = df['Feature 12'].mean()\n",
        "df['Feature 12'].fillna(median, inplace=True)\n",
        "median = df['Feature 13'].mean()\n",
        "df['Feature 13'].fillna(median, inplace=True)\n",
        "median = df['Feature 14'].mean()\n",
        "df['Feature 14'].fillna(median, inplace=True)\n",
        "median = df['Feature 24'].mean()\n",
        "df['Feature 24'].fillna(median, inplace=True)\n",
        "data = np.asarray(df)\n",
        "\n",
        "predictions = model.predict(data)\n",
        "\n",
        "num_list = [str(i) for i in range(1,427)]\n",
        "str_pred = []\n",
        "for i in range(len(predictions)):\n",
        "  str_pred.append(str(int(predictions[i])))\n",
        "\n",
        "df = pd.DataFrame(data = {'Id':num_list,'Category': str_pred})\n",
        "\n",
        "df.to_csv(\"test_output.csv\",index=False)\n",
        "\n"
      ],
      "execution_count": 1,
      "outputs": []
    },
    {
      "cell_type": "code",
      "metadata": {
        "id": "X3pn6-94YzHH"
      },
      "source": [
        ""
      ],
      "execution_count": null,
      "outputs": []
    }
  ]
}